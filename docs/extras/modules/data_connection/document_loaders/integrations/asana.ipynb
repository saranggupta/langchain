{
 "cells": [
  {
   "cell_type": "markdown",
   "id": "40422186",
   "metadata": {},
   "source": [
    "# Asana\n",
    "\n",
    ">[Asana](https://www.asana.com) is a web-based project management and collaboration tool that allows individuals and teams to organize and track their tasks and projects. It provides a visual interface known as a \"board\" where users can create lists and cards to represent their tasks and activities.\n",
    "\n",
    "The AsanaLoader allows you to load tasks from an Asana project or a workspace/org and is implemented on top of the asana API (https://asana.com/developers)\n",
    "\n",
    "This currently supports `access_tokens` only.\n",
    "\n",
    "Credential can be generated using the following step: https://developers.asana.com/docs/personal-access-token\n",
    "\n",
    "To specify the API key you can either set the environment variables ``ASANA_ACCESS_TOKEN`` or you can pass ``access_token`` directly into the `from_credentials` convenience constructor method.\n",
    "\n",
    "This loader allows you to provide a project id or a workspace id to pull in the corresponding tasks into Document objects.\n",
    "\n",
    "https://developers.asana.com/reference/projects#project\n",
    "https://developers.asana.com/reference/getprojectsforworkspace\n",
    "\n",
    "\n",
    "You can also specify several load parameters to include / remove different fields both from the document page_content properties and metadata.\n",
    "\n",
    "## Features\n",
    "- Load tasks from an Asana project or the whole workspace.\n",
    "- Include task names, description, custom field values, due dates, follower, compelted time and status in the loaded documents.\n",
    "- Customize the additional metadata fields to include in the document.\n"
   ]
  },
  {
   "cell_type": "code",
   "execution_count": 19,
   "id": "a214ed4c",
   "metadata": {},
   "outputs": [],
   "source": [
    "# If you have already set the API key and token using environment variables,\n",
    "# you can skip this cell and comment out the `api_key` and `token` named arguments\n",
    "# in the initialization steps below.\n",
    "API_KEY = YOUR_ASANA_API_KEY\n",
    "PROJECT_ID = PROJECT_ID_TO_QUERY #This can also be set for WORKSPACE_ID"
   ]
  },
  {
   "cell_type": "code",
   "execution_count": 20,
   "id": "ba94d908",
   "metadata": {
    "scrolled": true
   },
   "outputs": [],
   "source": [
    "from langchain.document_loaders import AsanaLoader\n",
    "\n",
    "# Initialize the Asana Loader and get all the task information\"\n",
    "loader = AsanaLoader.from_credentials(id=PROJECT_ID,\n",
    "                                      id_type='project',\n",
    "                                      access_token=API_KEY)\n",
    "\n",
    "documents = loader.load()"
   ]
  },
  {
   "cell_type": "code",
   "execution_count": 23,
   "id": "50ae9dc9",
   "metadata": {},
   "outputs": [
    {
     "name": "stdout",
     "output_type": "stream",
     "text": [
      "\n",
      "Task Title: Yay! We now have Asana integrations in LLM frameworks!\n",
      "We are excited to announce the new Asana integration in our LLM frameworks! Now, you can easily and seamlessly manage your tasks and keep track of your projects directly from our interface.\n",
      "\n",
      "With Asana integration, your team can stay in sync, hit deadlines, and reach your goals. No more switching between applications; access all your tasks and project updates right within our LLM framework.\n",
      "\n",
      "This integration is designed to be intuitive and user-friendly, whether you are a project manager, team member, or a stakeholder. Simply input your workspace or project ID, and you'll have a comprehensive overview of your tasks at your fingertips.\n",
      "\n",
      "But that's not all! Our Asana integration also allows you to fetch detailed metadata about each task. This includes the assignee, due date, completion status, followers, project name, workspace name, and custom fields.\n",
      "\n",
      "We believe this feature will enhance productivity, foster better collaboration, and streamline your workflow. Start using our LLM framework with Asana integration today and see the difference it makes to your project management experience!\n",
      "\n",
      "Task Metadata: {'title': 'Yay! We now have Asana integrations in LLM frameworks!', 'id': '1205066111791943', 'assignee': 'Unassigned', 'due_date': 'No due date', 'completed_at': None, 'custom_fields': ['Low', 'On track'], 'completed_by': 'Unknown', 'project_name': 'Unknown', 'workspace_name': 'Unknown', 'followers': []}\n",
      "\n",
      "----------\n",
      "\n",
      "Task Title: Schedule kickoff meeting\n",
      "\n",
      "\n",
      "Task Metadata: {'title': 'Schedule kickoff meeting', 'id': '1205066111791945', 'assignee': 'Unassigned', 'due_date': 'No due date', 'completed_at': None, 'custom_fields': ['Medium', 'At risk'], 'completed_by': 'Unknown', 'project_name': 'Unknown', 'workspace_name': 'Unknown', 'followers': []}\n",
      "\n",
      "----------\n",
      "\n",
      "Task Title: Share timeline with teammates\n",
      "\n",
      "\n",
      "Task Metadata: {'title': 'Share timeline with teammates', 'id': '1205066111791947', 'assignee': 'Unassigned', 'due_date': 'No due date', 'completed_at': None, 'custom_fields': ['High', 'Off track'], 'completed_by': 'Unknown', 'project_name': 'Unknown', 'workspace_name': 'Unknown', 'followers': []}\n",
      "\n",
      "----------\n"
     ]
    }
   ],
   "source": [
    "#Retrieving the task content and the metadata\n",
    "for document in documents:\n",
    "    print('')\n",
    "    print(f\"Task Title: {document.page_content}\")\n",
    "    print('')\n",
    "    print(f\"Task Metadata: {document.metadata}\")\n",
    "    print('')\n",
    "    print('----------')\n"
   ]
  }
 ],
 "metadata": {
  "kernelspec": {
   "display_name": "myenv",
   "language": "python",
   "name": "myenv"
  },
  "language_info": {
   "codemirror_mode": {
    "name": "ipython",
    "version": 3
   },
   "file_extension": ".py",
   "mimetype": "text/x-python",
   "name": "python",
   "nbconvert_exporter": "python",
   "pygments_lexer": "ipython3",
   "version": "3.9.16"
  }
 },
 "nbformat": 4,
 "nbformat_minor": 5
}
